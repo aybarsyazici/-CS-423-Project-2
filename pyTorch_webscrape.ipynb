{
 "cells": [
  {
   "cell_type": "code",
   "execution_count": 1,
   "metadata": {},
   "outputs": [],
   "source": [
    "import numpy as np\n",
    "import pandas as pd\n",
    "import torch\n",
    "import torch.nn as nn\n",
    "import torch.optim as optim\n",
    "from sklearn.preprocessing import LabelEncoder, MultiLabelBinarizer\n",
    "from sklearn.model_selection import train_test_split\n",
    "from sklearn.metrics import mean_squared_error\n",
    "# import tfidf\n",
    "from sklearn.feature_extraction.text import TfidfVectorizer\n",
    "\n",
    "# Set device\n",
    "device = torch.device('mps' if torch.backends.mps.is_available() else 'cpu')\n",
    "test = pd.read_csv('data/test_set_no_ratings.csv')\n",
    "# 1. Load Data\n",
    "train = pd.read_csv('data/train_ratings.csv')\n",
    "movies = pd.read_csv('data/movies.csv')\n",
    "\n",
    "links = pd.read_csv('data/links.csv',converters={'imdbId': str, 'tmdbId': str})\n",
    "\n"
   ]
  },
  {
   "cell_type": "code",
   "execution_count": 2,
   "metadata": {},
   "outputs": [],
   "source": [
    "movie_db_api_key = \"fc13b9e63596b93da9fb0634fcbde491\""
   ]
  },
  {
   "cell_type": "code",
   "execution_count": 3,
   "metadata": {},
   "outputs": [
    {
     "name": "stderr",
     "output_type": "stream",
     "text": [
      "/Users/aybarsyazici/Documents/distributed info/-CS-423-Project-2/.venv/lib/python3.11/site-packages/numpy/core/fromnumeric.py:59: FutureWarning: 'Series.swapaxes' is deprecated and will be removed in a future version. Please use 'Series.transpose' instead.\n",
      "  return bound(*args, **kwds)\n"
     ]
    },
    {
     "name": "stdout",
     "output_type": "stream",
     "text": [
      "Getting plot summaries for 1218 movies\n",
      "Getting plot summaries for 1218 movies\n",
      "Getting plot summaries for 1217 movies\n",
      "Getting plot summaries for 1218 movies\n",
      "Getting plot summaries for 1218 movies\n",
      "Getting plot summaries for 1218 movies\n",
      "Getting plot summaries for 1218 movies\n",
      "Getting plot summaries for 1217 movies\n",
      "10% done\n",
      "10% done\n",
      "10% done\n",
      "10% done\n",
      "20% done\n",
      "20% done\n",
      "20% done\n",
      "20% done\n",
      "30% done\n",
      "30% done\n",
      "30% done\n",
      "40% done\n",
      "50% done\n",
      "40% done\n",
      "40% done\n",
      "50% done\n",
      "60% done\n",
      "70% done\n"
     ]
    },
    {
     "ename": "KeyboardInterrupt",
     "evalue": "",
     "output_type": "error",
     "traceback": [
      "\u001b[0;31m---------------------------------------------------------------------------\u001b[0m",
      "\u001b[0;31mKeyboardInterrupt\u001b[0m                         Traceback (most recent call last)",
      "Cell \u001b[0;32mIn[3], line 30\u001b[0m\n\u001b[1;32m     26\u001b[0m \u001b[39m# Get the plot summaries, and keep the order\u001b[39;00m\n\u001b[1;32m     27\u001b[0m \u001b[39m# helper.get_plot_summary_chunk gets a chunk of links and returns a list of plot summaries\u001b[39;00m\n\u001b[1;32m     28\u001b[0m \u001b[39m# Each thread will run one helper.get_plot_summary_chunk\u001b[39;00m\n\u001b[1;32m     29\u001b[0m plot_summaries \u001b[39m=\u001b[39m []\n\u001b[0;32m---> 30\u001b[0m plot_summaries\u001b[39m.\u001b[39mextend(pool\u001b[39m.\u001b[39;49mmap(multiprocessing_helper\u001b[39m.\u001b[39;49mget_plot_summary_chunk, chunks))\n",
      "File \u001b[0;32m/opt/homebrew/Cellar/python@3.11/3.11.5/Frameworks/Python.framework/Versions/3.11/lib/python3.11/multiprocessing/pool.py:367\u001b[0m, in \u001b[0;36mPool.map\u001b[0;34m(self, func, iterable, chunksize)\u001b[0m\n\u001b[1;32m    362\u001b[0m \u001b[39mdef\u001b[39;00m \u001b[39mmap\u001b[39m(\u001b[39mself\u001b[39m, func, iterable, chunksize\u001b[39m=\u001b[39m\u001b[39mNone\u001b[39;00m):\n\u001b[1;32m    363\u001b[0m \u001b[39m    \u001b[39m\u001b[39m'''\u001b[39;00m\n\u001b[1;32m    364\u001b[0m \u001b[39m    Apply `func` to each element in `iterable`, collecting the results\u001b[39;00m\n\u001b[1;32m    365\u001b[0m \u001b[39m    in a list that is returned.\u001b[39;00m\n\u001b[1;32m    366\u001b[0m \u001b[39m    '''\u001b[39;00m\n\u001b[0;32m--> 367\u001b[0m     \u001b[39mreturn\u001b[39;00m \u001b[39mself\u001b[39;49m\u001b[39m.\u001b[39;49m_map_async(func, iterable, mapstar, chunksize)\u001b[39m.\u001b[39;49mget()\n",
      "File \u001b[0;32m/opt/homebrew/Cellar/python@3.11/3.11.5/Frameworks/Python.framework/Versions/3.11/lib/python3.11/multiprocessing/pool.py:768\u001b[0m, in \u001b[0;36mApplyResult.get\u001b[0;34m(self, timeout)\u001b[0m\n\u001b[1;32m    767\u001b[0m \u001b[39mdef\u001b[39;00m \u001b[39mget\u001b[39m(\u001b[39mself\u001b[39m, timeout\u001b[39m=\u001b[39m\u001b[39mNone\u001b[39;00m):\n\u001b[0;32m--> 768\u001b[0m     \u001b[39mself\u001b[39;49m\u001b[39m.\u001b[39;49mwait(timeout)\n\u001b[1;32m    769\u001b[0m     \u001b[39mif\u001b[39;00m \u001b[39mnot\u001b[39;00m \u001b[39mself\u001b[39m\u001b[39m.\u001b[39mready():\n\u001b[1;32m    770\u001b[0m         \u001b[39mraise\u001b[39;00m \u001b[39mTimeoutError\u001b[39;00m\n",
      "File \u001b[0;32m/opt/homebrew/Cellar/python@3.11/3.11.5/Frameworks/Python.framework/Versions/3.11/lib/python3.11/multiprocessing/pool.py:765\u001b[0m, in \u001b[0;36mApplyResult.wait\u001b[0;34m(self, timeout)\u001b[0m\n\u001b[1;32m    764\u001b[0m \u001b[39mdef\u001b[39;00m \u001b[39mwait\u001b[39m(\u001b[39mself\u001b[39m, timeout\u001b[39m=\u001b[39m\u001b[39mNone\u001b[39;00m):\n\u001b[0;32m--> 765\u001b[0m     \u001b[39mself\u001b[39;49m\u001b[39m.\u001b[39;49m_event\u001b[39m.\u001b[39;49mwait(timeout)\n",
      "File \u001b[0;32m/opt/homebrew/Cellar/python@3.11/3.11.5/Frameworks/Python.framework/Versions/3.11/lib/python3.11/threading.py:622\u001b[0m, in \u001b[0;36mEvent.wait\u001b[0;34m(self, timeout)\u001b[0m\n\u001b[1;32m    620\u001b[0m signaled \u001b[39m=\u001b[39m \u001b[39mself\u001b[39m\u001b[39m.\u001b[39m_flag\n\u001b[1;32m    621\u001b[0m \u001b[39mif\u001b[39;00m \u001b[39mnot\u001b[39;00m signaled:\n\u001b[0;32m--> 622\u001b[0m     signaled \u001b[39m=\u001b[39m \u001b[39mself\u001b[39;49m\u001b[39m.\u001b[39;49m_cond\u001b[39m.\u001b[39;49mwait(timeout)\n\u001b[1;32m    623\u001b[0m \u001b[39mreturn\u001b[39;00m signaled\n",
      "File \u001b[0;32m/opt/homebrew/Cellar/python@3.11/3.11.5/Frameworks/Python.framework/Versions/3.11/lib/python3.11/threading.py:320\u001b[0m, in \u001b[0;36mCondition.wait\u001b[0;34m(self, timeout)\u001b[0m\n\u001b[1;32m    318\u001b[0m \u001b[39mtry\u001b[39;00m:    \u001b[39m# restore state no matter what (e.g., KeyboardInterrupt)\u001b[39;00m\n\u001b[1;32m    319\u001b[0m     \u001b[39mif\u001b[39;00m timeout \u001b[39mis\u001b[39;00m \u001b[39mNone\u001b[39;00m:\n\u001b[0;32m--> 320\u001b[0m         waiter\u001b[39m.\u001b[39;49macquire()\n\u001b[1;32m    321\u001b[0m         gotit \u001b[39m=\u001b[39m \u001b[39mTrue\u001b[39;00m\n\u001b[1;32m    322\u001b[0m     \u001b[39melse\u001b[39;00m:\n",
      "\u001b[0;31mKeyboardInterrupt\u001b[0m: "
     ]
    }
   ],
   "source": [
    "# 2. Webscrape\n",
    "# For each movie in links, get the movie's plot summary from IMDB\n",
    "# Use BeautifulSoup to parse the html\n",
    "# Use requests to get the html\n",
    "# Use re to find the plot summary\n",
    "# Then use sentence transformer to get the embeddings\n",
    "import importlib\n",
    "from sentence_transformers import SentenceTransformer\n",
    "from tqdm.notebook import tqdm\n",
    "import multiprocessing_helper\n",
    "importlib.reload(multiprocessing_helper)\n",
    "transformer = SentenceTransformer('all-MiniLM-L6-v2', device='cuda')\n",
    "\n",
    "\n",
    "# Get the plot summaries for all the movies\n",
    "# plot_summaries = []\n",
    "# for link in tqdm(links['tmdbId']):\n",
    "#     plot_summaries.append(multiprocessing_helper.get_plot_summary(link))\n",
    "\n",
    "# Multiprocessing\n",
    "from multiprocessing import Pool\n",
    "cpu_count = 8\n",
    "pool = Pool(cpu_count)\n",
    "# Divide the links into chunks\n",
    "chunks = np.array_split(links['tmdbId'], cpu_count)\n",
    "# Get the plot summaries, and keep the order\n",
    "# helper.get_plot_summary_chunk gets a chunk of links and returns a list of plot summaries\n",
    "# Each thread will run one helper.get_plot_summary_chunk\n",
    "plot_summaries = []\n",
    "plot_summaries.extend(pool.map(multiprocessing_helper.get_plot_summary_chunk, chunks))"
   ]
  },
  {
   "cell_type": "code",
   "execution_count": null,
   "metadata": {},
   "outputs": [],
   "source": [
    "# 3. Pre-processing: Convert genres into a binary encoded vector\n",
    "movies['genres'] = movies['genres'].str.split('|')\n",
    "mlb = MultiLabelBinarizer()\n",
    "genres_encoded = mlb.fit_transform(movies['genres'])\n",
    "genres_df = pd.DataFrame(genres_encoded, columns=mlb.classes_, index=movies.movieId)\n",
    "\n",
    "# Merge genres data with main data\n",
    "train = train.merge(genres_df, left_on='movieId', right_index=True)\n",
    "test = test.merge(genres_df, left_on='movieId', right_index=True)\n",
    "\n",
    "\n",
    "# 3. Encode users and movies as integer indices\n",
    "user_enc = LabelEncoder()\n",
    "train['user_label'] = user_enc.fit_transform(train['userId'])\n",
    "test['user_label'] = user_enc.transform(test['userId'])"
   ]
  }
 ],
 "metadata": {
  "kernelspec": {
   "display_name": ".venv",
   "language": "python",
   "name": "python3"
  },
  "language_info": {
   "codemirror_mode": {
    "name": "ipython",
    "version": 3
   },
   "file_extension": ".py",
   "mimetype": "text/x-python",
   "name": "python",
   "nbconvert_exporter": "python",
   "pygments_lexer": "ipython3",
   "version": "3.11.5"
  },
  "orig_nbformat": 4
 },
 "nbformat": 4,
 "nbformat_minor": 2
}
