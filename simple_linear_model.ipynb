{
 "cells": [
  {
   "cell_type": "code",
   "execution_count": 1,
   "metadata": {},
   "outputs": [
    {
     "name": "stdout",
     "output_type": "stream",
     "text": [
      "RMSE: 0.973999806759077\n"
     ]
    }
   ],
   "source": [
    "import pandas as pd\n",
    "import numpy as np\n",
    "from sklearn.preprocessing import OneHotEncoder, MinMaxScaler\n",
    "from sklearn.ensemble import RandomForestRegressor\n",
    "from sklearn.metrics import mean_squared_error\n",
    "\n",
    "# Load datasets\n",
    "movies_df = pd.read_excel('data/movies_df.xlsx')\n",
    "movies_csv = pd.read_csv('data/movies.csv')\n",
    "train_ratings = pd.read_csv('data/train_ratings.csv')\n",
    "# split train data into train and validation data\n",
    "valid_data = train_ratings.iloc[int(len(train_ratings)*0.8):]\n",
    "train_ratings = train_ratings.iloc[:int(len(train_ratings)*0.8)]\n",
    "\n",
    "# Align movies_df with movies_csv based on movieId\n",
    "aligned_movies_df = movies_csv[['movieId']].merge(movies_df, on='movieId', how='left')\n",
    "\n",
    "# One-hot encode genres\n",
    "genres_matrix = movies_csv['genres'].str.get_dummies(sep='|')\n",
    "\n",
    "# Normalize numerical features from aligned_movies_df (excluding 'overview' column)\n",
    "scaler = MinMaxScaler()\n",
    "numeric_columns = aligned_movies_df.select_dtypes(include=[np.number]).columns\n",
    "numerical_features = scaler.fit_transform(aligned_movies_df[numeric_columns])\n",
    "\n",
    "# Combine features\n",
    "movie_features = np.hstack([genres_matrix.values, numerical_features])\n",
    "\n",
    "# Map movieId to the index in movie_features\n",
    "movie_id_to_index = {movie_id: idx for idx, movie_id in enumerate(movies_csv['movieId'])}\n",
    "\n",
    "# Function to create a feature array for a given user-item pair\n",
    "def get_features(row):\n",
    "    movie_idx = movie_id_to_index.get(row['movieId'])\n",
    "    if movie_idx is not None:\n",
    "        movie_ftrs = movie_features[movie_idx]\n",
    "        return np.hstack([row['rating'], movie_ftrs])\n",
    "    return np.array([np.nan] * (1 + movie_features.shape[1]))\n",
    "\n",
    "# Prepare training data\n",
    "train_data = np.array([get_features(row) for _, row in train_ratings.iterrows()])\n",
    "X_train = train_data[:, 1:]  # Exclude the rating column\n",
    "y_train = train_data[:, 0]   # Only the rating column\n",
    "\n",
    "# Prepare validation data\n",
    "valid_data_features = np.array([get_features(row) for _, row in valid_data.iterrows()])\n",
    "X_valid = valid_data_features[:, 1:]  # Exclude the rating column\n",
    "y_valid = valid_data_features[:, 0]   # Only the rating column\n",
    "\n",
    "from sklearn.impute import SimpleImputer\n",
    "\n",
    "# Impute missing values in the training data\n",
    "imputer = SimpleImputer(strategy='mean')\n",
    "X_train_imputed = imputer.fit_transform(X_train)\n",
    "\n",
    "# Train the model\n",
    "model = RandomForestRegressor(n_estimators=100, random_state=42)\n",
    "model.fit(X_train_imputed, y_train)\n",
    "\n",
    "# Impute missing values in the validation data\n",
    "X_valid_imputed = imputer.transform(X_valid)\n",
    "\n",
    "# Making predictions\n",
    "y_pred = model.predict(X_valid_imputed)\n",
    "\n",
    "# Calculating RMSE\n",
    "rmse = np.sqrt(mean_squared_error(y_valid, y_pred))\n",
    "print(f'RMSE: {rmse}')"
   ]
  }
 ],
 "metadata": {
  "kernelspec": {
   "display_name": ".venv",
   "language": "python",
   "name": "python3"
  },
  "language_info": {
   "codemirror_mode": {
    "name": "ipython",
    "version": 3
   },
   "file_extension": ".py",
   "mimetype": "text/x-python",
   "name": "python",
   "nbconvert_exporter": "python",
   "pygments_lexer": "ipython3",
   "version": "3.11.6"
  },
  "orig_nbformat": 4
 },
 "nbformat": 4,
 "nbformat_minor": 2
}
