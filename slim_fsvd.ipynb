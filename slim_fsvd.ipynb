{
 "cells": [
  {
   "cell_type": "code",
   "execution_count": 7,
   "outputs": [
    {
     "data": {
      "text/plain": "   userId  movieId  rating   timestamp\n0     509     7347     3.0  1435994597",
      "text/html": "<div>\n<style scoped>\n    .dataframe tbody tr th:only-of-type {\n        vertical-align: middle;\n    }\n\n    .dataframe tbody tr th {\n        vertical-align: top;\n    }\n\n    .dataframe thead th {\n        text-align: right;\n    }\n</style>\n<table border=\"1\" class=\"dataframe\">\n  <thead>\n    <tr style=\"text-align: right;\">\n      <th></th>\n      <th>userId</th>\n      <th>movieId</th>\n      <th>rating</th>\n      <th>timestamp</th>\n    </tr>\n  </thead>\n  <tbody>\n    <tr>\n      <th>0</th>\n      <td>509</td>\n      <td>7347</td>\n      <td>3.0</td>\n      <td>1435994597</td>\n    </tr>\n  </tbody>\n</table>\n</div>"
     },
     "execution_count": 7,
     "metadata": {},
     "output_type": "execute_result"
    }
   ],
   "source": [
    "import pandas as pd\n",
    "from surprise import Reader, Dataset, SVD, accuracy\n",
    "from surprise.model_selection import train_test_split\n",
    "\n",
    "DATA_DIR = 'data/'\n",
    "train_ratings = pd.read_csv(f'{DATA_DIR}train_ratings.csv')\n",
    "train_ratings.head(1)"
   ],
   "metadata": {
    "collapsed": false,
    "ExecuteTime": {
     "end_time": "2023-11-18T11:02:35.753188869Z",
     "start_time": "2023-11-18T11:02:35.688728115Z"
    }
   },
   "id": "259790c325436f02"
  },
  {
   "cell_type": "code",
   "execution_count": 8,
   "outputs": [
    {
     "name": "stdout",
     "output_type": "stream",
     "text": [
      "Number of users: 610\n",
      "Number of movies: 8983\n"
     ]
    }
   ],
   "source": [
    "n_users = train_ratings['userId'].nunique()\n",
    "n_movies = train_ratings['movieId'].nunique()\n",
    "print(f'Number of users: {n_users}')\n",
    "print(f'Number of movies: {n_movies}')"
   ],
   "metadata": {
    "collapsed": false,
    "ExecuteTime": {
     "end_time": "2023-11-18T11:02:35.962148772Z",
     "start_time": "2023-11-18T11:02:35.925578367Z"
    }
   },
   "id": "86870b11f36ceb78"
  },
  {
   "cell_type": "code",
   "execution_count": 9,
   "outputs": [],
   "source": [
    "reader = Reader(rating_scale=(1, 5))\n",
    "data = Dataset.load_from_df(train_ratings[['userId', 'movieId', 'rating']], reader)\n",
    "trainset, testset = train_test_split(data, test_size=.25)"
   ],
   "metadata": {
    "collapsed": false,
    "ExecuteTime": {
     "end_time": "2023-11-18T11:02:36.625918447Z",
     "start_time": "2023-11-18T11:02:36.448528701Z"
    }
   },
   "id": "e6a145f5c388450"
  },
  {
   "cell_type": "code",
   "execution_count": 10,
   "outputs": [
    {
     "name": "stdout",
     "output_type": "stream",
     "text": [
      "RMSE: 0.8779\n"
     ]
    },
    {
     "data": {
      "text/plain": "0.8779221720100647"
     },
     "execution_count": 10,
     "metadata": {},
     "output_type": "execute_result"
    }
   ],
   "source": [
    "model = SVD(n_factors=100, n_epochs=20, lr_all=0.005, reg_all=0.02)\n",
    "model.fit(trainset)\n",
    "predictions = model.test(testset)\n",
    "accuracy.rmse(predictions)"
   ],
   "metadata": {
    "collapsed": false,
    "ExecuteTime": {
     "end_time": "2023-11-18T11:02:37.996846984Z",
     "start_time": "2023-11-18T11:02:37.119249609Z"
    }
   },
   "id": "4dfd4fff14cab227"
  },
  {
   "cell_type": "code",
   "execution_count": 191,
   "outputs": [],
   "source": [
    "import implicit\n",
    "import numpy as np\n",
    "from scipy.sparse import csr_matrix\n",
    "from sklearn.metrics import mean_squared_error\n",
    "from sklearn.model_selection import train_test_split as ts"
   ],
   "metadata": {
    "collapsed": false,
    "ExecuteTime": {
     "end_time": "2023-11-19T16:16:11.191791938Z",
     "start_time": "2023-11-19T16:16:11.140351416Z"
    }
   },
   "id": "209b8f5e35d9a25b"
  },
  {
   "cell_type": "code",
   "execution_count": 192,
   "outputs": [],
   "source": [
    "train_ratings_matrix = train_ratings.pivot_table(index='userId', columns='movieId', values='rating').fillna(0)"
   ],
   "metadata": {
    "collapsed": false,
    "ExecuteTime": {
     "end_time": "2023-11-19T16:16:11.775123390Z",
     "start_time": "2023-11-19T16:16:11.284326981Z"
    }
   },
   "id": "5493dd044c12a7c4"
  },
  {
   "cell_type": "code",
   "execution_count": 193,
   "outputs": [],
   "source": [
    "train2, test2 = ts(train_ratings_matrix, train_size=0.8, random_state=42)"
   ],
   "metadata": {
    "collapsed": false,
    "ExecuteTime": {
     "end_time": "2023-11-19T16:16:11.929759665Z",
     "start_time": "2023-11-19T16:16:11.884170120Z"
    }
   },
   "id": "6527cb76580a30d7"
  },
  {
   "cell_type": "code",
   "execution_count": 194,
   "outputs": [
    {
     "name": "stdout",
     "output_type": "stream",
     "text": [
      "(610, 8983)\n",
      "(488, 8983)\n",
      "(122, 8983)\n"
     ]
    }
   ],
   "source": [
    "print(train_ratings_matrix.shape)\n",
    "print(train2.shape)\n",
    "print(test2.shape)"
   ],
   "metadata": {
    "collapsed": false,
    "ExecuteTime": {
     "end_time": "2023-11-19T16:16:11.930290233Z",
     "start_time": "2023-11-19T16:16:11.929517387Z"
    }
   },
   "id": "a5e8dafae7ddd744"
  },
  {
   "cell_type": "code",
   "execution_count": 195,
   "outputs": [],
   "source": [
    "train_data = csr_matrix(train2)\n",
    "test_data = csr_matrix(test2)"
   ],
   "metadata": {
    "collapsed": false,
    "ExecuteTime": {
     "end_time": "2023-11-19T16:16:11.986206558Z",
     "start_time": "2023-11-19T16:16:11.930018461Z"
    }
   },
   "id": "27825d3ce4b6c6c7"
  },
  {
   "cell_type": "code",
   "execution_count": 196,
   "outputs": [],
   "source": [
    "num_factors = 2"
   ],
   "metadata": {
    "collapsed": false,
    "ExecuteTime": {
     "end_time": "2023-11-19T16:16:12.085923051Z",
     "start_time": "2023-11-19T16:16:12.085168474Z"
    }
   },
   "id": "5ec10af5b410af7c"
  },
  {
   "cell_type": "code",
   "execution_count": 197,
   "outputs": [],
   "source": [
    "model = implicit.als.AlternatingLeastSquares(factors=num_factors)"
   ],
   "metadata": {
    "collapsed": false,
    "ExecuteTime": {
     "end_time": "2023-11-19T16:16:12.205441554Z",
     "start_time": "2023-11-19T16:16:12.164637495Z"
    }
   },
   "id": "56a8bfec1cd2deda"
  },
  {
   "cell_type": "code",
   "execution_count": 198,
   "outputs": [
    {
     "data": {
      "text/plain": "  0%|          | 0/15 [00:00<?, ?it/s]",
      "application/vnd.jupyter.widget-view+json": {
       "version_major": 2,
       "version_minor": 0,
       "model_id": "6086683b71dd433991b6a603ec20985f"
      }
     },
     "metadata": {},
     "output_type": "display_data"
    }
   ],
   "source": [
    "model.fit(train_data)"
   ],
   "metadata": {
    "collapsed": false,
    "ExecuteTime": {
     "end_time": "2023-11-19T16:16:12.833227676Z",
     "start_time": "2023-11-19T16:16:12.621922502Z"
    }
   },
   "id": "5be659a48b10201"
  },
  {
   "cell_type": "code",
   "execution_count": 199,
   "outputs": [],
   "source": [
    "user_factors = model.user_factors\n",
    "item_factors = model.item_factors"
   ],
   "metadata": {
    "collapsed": false,
    "ExecuteTime": {
     "end_time": "2023-11-19T16:16:13.020909959Z",
     "start_time": "2023-11-19T16:16:13.005036267Z"
    }
   },
   "id": "2cc3056ec0b2350c"
  },
  {
   "cell_type": "code",
   "execution_count": 200,
   "outputs": [],
   "source": [
    "predictions = user_factors.dot(item_factors.T)\n",
    "actual_values = test_data[test_data.nonzero()]\n",
    "actual_values = actual_values.reshape(-1,1)\n",
    "actual_values = np.ravel(actual_values)\n",
    "predicted_values = predictions[test_data.nonzero()]"
   ],
   "metadata": {
    "collapsed": false,
    "ExecuteTime": {
     "end_time": "2023-11-19T16:16:13.966930595Z",
     "start_time": "2023-11-19T16:16:13.941236383Z"
    }
   },
   "id": "2208695e0e3f3ad3"
  },
  {
   "cell_type": "code",
   "execution_count": 201,
   "outputs": [
    {
     "name": "stdout",
     "output_type": "stream",
     "text": [
      "(488, 8983)\n",
      "(22134,)\n",
      "(22134,)\n"
     ]
    }
   ],
   "source": [
    "print(predictions.shape)\n",
    "print(actual_values.shape)\n",
    "print(predicted_values.shape)"
   ],
   "metadata": {
    "collapsed": false,
    "ExecuteTime": {
     "end_time": "2023-11-19T16:16:14.434421827Z",
     "start_time": "2023-11-19T16:16:14.376703225Z"
    }
   },
   "id": "1caf8263d1aab981"
  },
  {
   "cell_type": "code",
   "execution_count": 201,
   "outputs": [],
   "source": [],
   "metadata": {
    "collapsed": false,
    "ExecuteTime": {
     "end_time": "2023-11-19T16:16:15.267158891Z",
     "start_time": "2023-11-19T16:16:15.252305229Z"
    }
   },
   "id": "2a8a03166b9b6da1"
  },
  {
   "cell_type": "code",
   "execution_count": 202,
   "outputs": [],
   "source": [
    "rmse = mean_squared_error(actual_values, predicted_values, squared=False)"
   ],
   "metadata": {
    "collapsed": false,
    "ExecuteTime": {
     "end_time": "2023-11-19T16:16:15.707680886Z",
     "start_time": "2023-11-19T16:16:15.699315800Z"
    }
   },
   "id": "189422980c83d9d7"
  },
  {
   "cell_type": "code",
   "execution_count": 203,
   "outputs": [
    {
     "name": "stdout",
     "output_type": "stream",
     "text": [
      "3.4605218657147905\n"
     ]
    }
   ],
   "source": [
    "print(rmse)"
   ],
   "metadata": {
    "collapsed": false,
    "ExecuteTime": {
     "end_time": "2023-11-19T16:16:19.958474427Z",
     "start_time": "2023-11-19T16:16:19.922267412Z"
    }
   },
   "id": "afab9fa2314cb0b1"
  },
  {
   "cell_type": "code",
   "execution_count": null,
   "outputs": [],
   "source": [],
   "metadata": {
    "collapsed": false
   },
   "id": "b1bc8ecd4c95a21e"
  }
 ],
 "metadata": {
  "kernelspec": {
   "display_name": "Python 3",
   "language": "python",
   "name": "python3"
  },
  "language_info": {
   "codemirror_mode": {
    "name": "ipython",
    "version": 2
   },
   "file_extension": ".py",
   "mimetype": "text/x-python",
   "name": "python",
   "nbconvert_exporter": "python",
   "pygments_lexer": "ipython2",
   "version": "2.7.6"
  }
 },
 "nbformat": 4,
 "nbformat_minor": 5
}
