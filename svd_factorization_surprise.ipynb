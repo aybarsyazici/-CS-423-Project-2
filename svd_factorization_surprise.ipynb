{
 "cells": [
  {
   "cell_type": "code",
   "execution_count": 7,
   "id": "259790c325436f02",
   "metadata": {
    "ExecuteTime": {
     "end_time": "2023-11-18T11:02:35.753188869Z",
     "start_time": "2023-11-18T11:02:35.688728115Z"
    },
    "collapsed": false
   },
   "outputs": [
    {
     "data": {
      "text/html": [
       "<div>\n",
       "<style scoped>\n",
       "    .dataframe tbody tr th:only-of-type {\n",
       "        vertical-align: middle;\n",
       "    }\n",
       "\n",
       "    .dataframe tbody tr th {\n",
       "        vertical-align: top;\n",
       "    }\n",
       "\n",
       "    .dataframe thead th {\n",
       "        text-align: right;\n",
       "    }\n",
       "</style>\n",
       "<table border=\"1\" class=\"dataframe\">\n",
       "  <thead>\n",
       "    <tr style=\"text-align: right;\">\n",
       "      <th></th>\n",
       "      <th>userId</th>\n",
       "      <th>movieId</th>\n",
       "      <th>rating</th>\n",
       "      <th>timestamp</th>\n",
       "    </tr>\n",
       "  </thead>\n",
       "  <tbody>\n",
       "    <tr>\n",
       "      <th>0</th>\n",
       "      <td>509</td>\n",
       "      <td>7347</td>\n",
       "      <td>3.0</td>\n",
       "      <td>1435994597</td>\n",
       "    </tr>\n",
       "  </tbody>\n",
       "</table>\n",
       "</div>"
      ],
      "text/plain": [
       "   userId  movieId  rating   timestamp\n",
       "0     509     7347     3.0  1435994597"
      ]
     },
     "execution_count": 7,
     "metadata": {},
     "output_type": "execute_result"
    }
   ],
   "source": [
    "import pandas as pd\n",
    "from surprise import Reader, Dataset, SVD, accuracy\n",
    "from surprise.model_selection import train_test_split\n",
    "\n",
    "DATA_DIR = 'data/'\n",
    "train_ratings = pd.read_csv(f'{DATA_DIR}train_ratings.csv')\n",
    "train_ratings.head(1)"
   ]
  },
  {
   "cell_type": "code",
   "execution_count": 8,
   "id": "86870b11f36ceb78",
   "metadata": {
    "ExecuteTime": {
     "end_time": "2023-11-18T11:02:35.962148772Z",
     "start_time": "2023-11-18T11:02:35.925578367Z"
    },
    "collapsed": false
   },
   "outputs": [
    {
     "name": "stdout",
     "output_type": "stream",
     "text": [
      "Number of users: 610\n",
      "Number of movies: 8983\n"
     ]
    }
   ],
   "source": [
    "n_users = train_ratings['userId'].nunique()\n",
    "n_movies = train_ratings['movieId'].nunique()\n",
    "print(f'Number of users: {n_users}')\n",
    "print(f'Number of movies: {n_movies}')"
   ]
  },
  {
   "cell_type": "code",
   "execution_count": 9,
   "id": "e6a145f5c388450",
   "metadata": {
    "ExecuteTime": {
     "end_time": "2023-11-18T11:02:36.625918447Z",
     "start_time": "2023-11-18T11:02:36.448528701Z"
    },
    "collapsed": false
   },
   "outputs": [],
   "source": [
    "reader = Reader(rating_scale=(1, 5))\n",
    "data = Dataset.load_from_df(train_ratings[['userId', 'movieId', 'rating']], reader)\n",
    "trainset, testset = train_test_split(data, test_size=.25)"
   ]
  },
  {
   "cell_type": "code",
   "execution_count": 10,
   "id": "4dfd4fff14cab227",
   "metadata": {
    "ExecuteTime": {
     "end_time": "2023-11-18T11:02:37.996846984Z",
     "start_time": "2023-11-18T11:02:37.119249609Z"
    },
    "collapsed": false
   },
   "outputs": [
    {
     "name": "stdout",
     "output_type": "stream",
     "text": [
      "RMSE: 0.8779\n"
     ]
    },
    {
     "data": {
      "text/plain": [
       "0.8779221720100647"
      ]
     },
     "execution_count": 10,
     "metadata": {},
     "output_type": "execute_result"
    }
   ],
   "source": [
    "model = SVD(n_factors=100, n_epochs=20, lr_all=0.005, reg_all=0.02)\n",
    "model.fit(trainset)\n",
    "predictions = model.test(testset)\n",
    "accuracy.rmse(predictions)"
   ]
  },
  {
   "cell_type": "code",
   "execution_count": null,
   "id": "6b49c2e52ad99283",
   "metadata": {
    "collapsed": false
   },
   "outputs": [],
   "source": []
  }
 ],
 "metadata": {
  "kernelspec": {
   "display_name": "Python 3",
   "language": "python",
   "name": "python3"
  },
  "language_info": {
   "codemirror_mode": {
    "name": "ipython",
    "version": 2
   },
   "file_extension": ".py",
   "mimetype": "text/x-python",
   "name": "python",
   "nbconvert_exporter": "python",
   "pygments_lexer": "ipython2",
   "version": "2.7.6"
  }
 },
 "nbformat": 4,
 "nbformat_minor": 5
}
